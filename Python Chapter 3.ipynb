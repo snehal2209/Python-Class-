{
 "cells": [
  {
   "cell_type": "code",
   "execution_count": 23,
   "id": "5909f51e-ed7d-49ec-81a1-f044a2deb566",
   "metadata": {},
   "outputs": [
    {
     "name": "stdin",
     "output_type": "stream",
     "text": [
      "Enter a number:  25\n"
     ]
    },
    {
     "name": "stdout",
     "output_type": "stream",
     "text": [
      "Square of 25 is 625\n",
      "Factorial of 25 is 15511210043330985984000000\n"
     ]
    }
   ],
   "source": [
    "import threading\n",
    "\n",
    "def square(num):\n",
    "    print(\"Square of\", num, \"is\", num * num)\n",
    "\n",
    "def factorial(num):\n",
    "    fact = 1\n",
    "    for i in range(1, num + 1):\n",
    "        fact *= i\n",
    "    print(\"Factorial of\", num, \"is\", fact)\n",
    "\n",
    "\n",
    "num = int(input(\"Enter a number: \"))\n",
    "\n",
    "# Create threads\n",
    "t1 = threading.Thread(target=square, args=(num,))\n",
    "t2 = threading.Thread(target=factorial, args=(num,))\n",
    "\n",
    "# Start the threads\n",
    "t1.start()\n",
    "t2.start()\n",
    "\n",
    "# Wait for both threads to finish\n",
    "t1.join()\n",
    "t2.join()"
   ]
  },
  {
   "cell_type": "code",
   "execution_count": 20,
   "id": "2634c1ef-4106-4d4b-99c8-65bc73f46754",
   "metadata": {},
   "outputs": [
    {
     "name": "stdout",
     "output_type": "stream",
     "text": [
      "['support@example.com', 'sales@example.com']\n"
     ]
    }
   ],
   "source": [
    "import re\n",
    "\n",
    "def extract_emails(text):\n",
    "    email_regex = r\"[\\w-]+@[\\w-]+\\.[\\w-]+\"\n",
    "    emails = re.findall(email_regex, text)\n",
    "    return emails\n",
    "\n",
    "\n",
    "text = \"Contact us at support@example.com or sales@example.com for more information.\"\n",
    "emails = extract_emails(text)\n",
    "print(emails)  # Output: ['support@example.com', 'sales@example.com']"
   ]
  },
  {
   "cell_type": "code",
   "execution_count": 19,
   "id": "f0c5281a-763f-4f31-867e-32ab6cb7a91c",
   "metadata": {},
   "outputs": [
    {
     "name": "stdout",
     "output_type": "stream",
     "text": [
      "Car 1  Details:\n",
      "Make: Toyota\n",
      "Model: Camry\n",
      "Year: 2023\n",
      "\n",
      "Car 1  Details:\n",
      "Make: Honda\n",
      "Model: Civic\n",
      "Year: 2022\n"
     ]
    }
   ],
   "source": [
    "class Car:\n",
    "    def __init__(self, make, model, year):\n",
    "        self.make = make\n",
    "        self.model = model\n",
    "        self.year = year\n",
    "\n",
    "    def display_info(self):\n",
    "        print(f\"Car 1  Details:\")\n",
    "        print(f\"Make: {self.make}\")\n",
    "        print(f\"Model: {self.model}\")\n",
    "        print(f\"Year: {self.year}\")\n",
    "\n",
    "# Create instances of the Car class\n",
    "car1 = Car(\"Toyota\", \"Camry\", 2023)\n",
    "car2 = Car(\"Honda\", \"Civic\", 2022)\n",
    "\n",
    "# Call the display_info method for each instance\n",
    "car1.display_info()\n",
    "print()\n",
    "car2.display_info()"
   ]
  },
  {
   "cell_type": "code",
   "execution_count": 17,
   "id": "48d7907e-33ed-47b1-b86f-6bfab8e35198",
   "metadata": {},
   "outputs": [
    {
     "name": "stdout",
     "output_type": "stream",
     "text": [
      "Total Price: 45\n"
     ]
    }
   ],
   "source": [
    "class ShoppingCart:\n",
    "    def __init__(self):\n",
    "        self.items = []\n",
    "    \n",
    "    def add_item(self, item, price):\n",
    "        self.items.append((item, price))\n",
    "    \n",
    "    def remove_item(self, item):\n",
    "        for i in range(len(self.items)):\n",
    "            if self.items[i][0] == item:\n",
    "                self.items.pop(i)\n",
    "                break\n",
    "    \n",
    "    def calculate_total(self):\n",
    "        total_price = 0\n",
    "        for item, price in self.items:\n",
    "            total_price += price\n",
    "        return total_price\n",
    "\n",
    "# Create a shopping cart\n",
    "cart = ShoppingCart()\n",
    "\n",
    "# Add items to the cart\n",
    "cart.add_item(\"Apple\", 20)\n",
    "cart.add_item(\"Banana\", 15)\n",
    "cart.add_item(\"Orange\", 25)\n",
    "\n",
    "# Remove an item from the cart\n",
    "cart.remove_item(\"Banana\")\n",
    "\n",
    "# Calculate the total price\n",
    "total_price = cart.calculate_total()\n",
    "print(\"Total Price:\",total_price)"
   ]
  },
  {
   "cell_type": "code",
   "execution_count": null,
   "id": "e9cdcdc0-b9d9-4137-9b2e-9ba561d425a3",
   "metadata": {},
   "outputs": [],
   "source": [
    "import pymongo\n",
    "\n",
    "# Connect to MongoDB\n",
    "client = pymongo.MongoClient(\"mongodb://localhost:27017/\")\n",
    "\n",
    "# Access the database and collection 1 \n",
    "db = client[\"your_database_name\"]\n",
    "collection = db[\"Teacher\"]\n",
    "\n",
    "# Find all teachers\n",
    "teachers = collection.find({})\n",
    "\n",
    "# Print the details of each teacher\n",
    "for teacher in teachers:\n",
    "    print(\"Name:\", teacher[\"name\"])\n",
    "    print(\"Subject:\", teacher[\"subject\"])\n",
    "    print(\"Experience:\", teacher[\"experience\"])\n",
    "    print(\"--------------------\")"
   ]
  },
  {
   "cell_type": "code",
   "execution_count": 7,
   "id": "050264dd-489f-4fc3-9fa1-191c4d96e3fc",
   "metadata": {},
   "outputs": [
    {
     "name": "stdout",
     "output_type": "stream",
     "text": [
      "Data in file before reverse:  Welcome to Python Class\n",
      "Data in file after reverse:  emocleW ot nohtyP ssalC\n",
      "Words in the file have been reversed.\n"
     ]
    }
   ],
   "source": [
    "def reverse_words_in_file(filename):\n",
    "    with open(filename, 'r+') as file:\n",
    "        content = file.read()\n",
    "        print(\"Data in file before reverse: \",content)\n",
    "        reversed_words = []\n",
    "        for word in content.split():\n",
    "            reversed_words.append(word[::-1])\n",
    "        reversed_content = ' '.join(reversed_words)\n",
    "        file.seek(0)\n",
    "        file.write(reversed_content)\n",
    "        print(\"Data in file after reverse: \",reversed_content)\n",
    "        file.truncate()\n",
    "\n",
    "\n",
    "filename = \"data.txt\"\n",
    "reverse_words_in_file(filename)\n",
    "print(\"Words in the file have been reversed.\")"
   ]
  },
  {
   "cell_type": "code",
   "execution_count": null,
   "id": "be4b66bd-3851-4891-ad4d-cc1e72bfe4c5",
   "metadata": {},
   "outputs": [],
   "source": [
    "import pymongo\n",
    "\n",
    "# Connect to MongoDB\n",
    "client = pymongo.MongoClient(\"mongodb://localhost:27017/\")\n",
    "\n",
    "# Access the database and collection 1 \n",
    "db = client[\"project_competition\"]\n",
    "collection = db[\"registrations\"]\n",
    "\n",
    "def register_student():\n",
    "    std_id = input(\"Enter Student ID: \")\n",
    "    std_name = input(\"Enter Student Name: \")\n",
    "    project_topic = input(\"Enter Project Topic: \")\n",
    "    std_phone = input(\"Enter Student Phone Number: \")\n",
    "\n",
    "    student_data = {\n",
    "        \"std_id\": std_id,\n",
    "        \"std_name\": std_name,\n",
    "        \"project_topic\": project_topic,\n",
    "        \"std_phone\": std_phone\n",
    "    }\n",
    "\n",
    "    collection.insert_one(student_data)\n",
    "    print(\"Registration Successful!\")\n",
    "\n",
    "def display_registrations():\n",
    "    registrations = collection.find({})\n",
    "    for registration in registrations:\n",
    "        print(\"Student ID:\", registration[\"std_id\"])\n",
    "        print(\"Student Name:\", registration[\"std_name\"])\n",
    "        print(\"Project Topic:\", registration[\"project_topic\"])\n",
    "        print(\"Student Phone:\", registration[\"std_phone\"])\n",
    "        print(\"----------------------------\")\n",
    "\n",
    "while True:\n",
    "    print(\"\\nProject Presentation Competition Registration\")\n",
    "    print(\"1. Register Student\")\n",
    "    print(\"2. Display Registrations\")\n",
    "    print(\"3. Exit\")\n",
    "\n",
    "    choice = int(input(\"Enter your choice: \"))\n",
    "\n",
    "    if choice == 1:\n",
    "        register_student()\n",
    "    elif choice == 2:\n",
    "        display_registrations()\n",
    "    elif choice == 3:\n",
    "        break\n",
    "    else:\n",
    "        print(\"Invalid choice. Please try again.\")"
   ]
  },
  {
   "cell_type": "code",
   "execution_count": 3,
   "id": "98448b0d-11e3-4f4f-a6c5-bcccbaae7f11",
   "metadata": {},
   "outputs": [
    {
     "name": "stdout",
     "output_type": "stream",
     "text": [
      "Number of rows: 3\n",
      "Number of missing values in the first column: 0\n",
      "Number of columns: 3\n"
     ]
    }
   ],
   "source": [
    "import pandas as pd\n",
    "\n",
    "# Create a 2D list\n",
    "data = [[10, 20, 30],\n",
    "        [40, 50, 60],\n",
    "        [70, 80, 90]]\n",
    "\n",
    "# Create a DataFrame from the 2D list\n",
    "df = pd.DataFrame(data, columns=['A', 'B', 'C'])\n",
    "\n",
    "# 1. Count number of rows\n",
    "num_rows = df.shape[0]\n",
    "print(\"Number of rows:\", num_rows)\n",
    "\n",
    "# 2. Count missing values in the first column\n",
    "missing_values = df['A'].isnull().sum()\n",
    "print(\"Number of missing values in the first column:\", missing_values)\n",
    "\n",
    "# 3. Display number of columns in the DataFrame\n",
    "num_columns = df.shape[1]\n",
    "print(\"Number of columns:\", num_columns)"
   ]
  },
  {
   "cell_type": "code",
   "execution_count": 2,
   "id": "67985265-f609-43a0-a066-a3d032eae8c9",
   "metadata": {},
   "outputs": [
    {
     "name": "stdout",
     "output_type": "stream",
     "text": [
      "Median: 5.0\n",
      "Mode: 5.0\n"
     ]
    }
   ],
   "source": [
    "import numpy as np\n",
    "\n",
    "# Create a 3x3 NumPy array\n",
    "arr = np.array([[1, 2, 3],\n",
    "                [4, 5, 6],\n",
    "                [7, 8, 9]])\n",
    "\n",
    "# Flatten the array to a 1D array\n",
    "flat_arr = arr.flatten()\n",
    "\n",
    "# Calculate the median\n",
    "median = np.median(flat_arr)\n",
    "print(\"Median:\", median)\n",
    "\n",
    "# Calculate the mode\n",
    "mode = np.median(flat_arr)\n",
    "print(\"Mode:\", mode)"
   ]
  },
  {
   "cell_type": "code",
   "execution_count": 1,
   "id": "f5dbbfda-0df9-45de-b4bc-b05bf7d09c6e",
   "metadata": {},
   "outputs": [
    {
     "data": {
      "image/png": "[encoded data removed]",
      "text/plain": [
       "<Figure size 640x480 with 1 Axes>"
      ]
     },
     "metadata": {},
     "output_type": "display_data"
    }
   ],
   "source": [
    "import matplotlib.pyplot as plt\n",
    "import numpy as np\n",
    "\n",
    "# Sample data\n",
    "x = np.arange(5)\n",
    "y = [10, 25, 15, 30, 20]\n",
    "\n",
    "# Create a bar plot\n",
    "plt.bar(x, y, color=['blue', 'green', 'red', 'orange', 'purple'])\n",
    "\n",
    "# Add labels and title\n",
    "plt.xlabel('Categories')\n",
    "plt.ylabel('Values')\n",
    "plt.title('Bar Chart with Decorations')\n",
    "\n",
    "# Customize x-axis ticks\n",
    "plt.xticks(x, ['A', 'B', 'C', 'D', 'E'])\n",
    "\n",
    "# Add grid lines\n",
    "plt.grid(axis='y', linestyle='--', alpha=0.7)\n",
    "\n",
    "# Add text annotations\n",
    "for i in range(len(x)):\n",
    "    plt.text(x[i], y[i], str(y[i]), ha='center', va='bottom')\n",
    "\n",
    "# Add a legend\n",
    "plt.legend(['Data Series'])\n",
    "\n",
    "# Adjust layout\n",
    "plt.tight_layout()\n",
    "\n",
    "# Display the plot\n",
    "plt.show()"
   ]
  }
 ],
 "metadata": {
  "kernelspec": {
   "display_name": "Python 3 (ipykernel)",
   "language": "python",
   "name": "python3"
  },
  "language_info": {
   "codemirror_mode": {
    "name": "ipython",
    "version": 3
   },
   "file_extension": ".py",
   "mimetype": "text/x-python",
   "name": "python",
   "nbconvert_exporter": "python",
   "pygments_lexer": "ipython3",
   "version": "3.12.4"
  }
 },
 "nbformat": 4,
 "nbformat_minor": 5
}
